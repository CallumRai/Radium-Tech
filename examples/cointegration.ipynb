{
 "cells": [
  {
   "cell_type": "markdown",
   "metadata": {},
   "source": [
    "# Cointegration between GLD and GDX (2019 -)"
   ]
  },
  {
   "cell_type": "code",
   "execution_count": 1,
   "metadata": {},
   "outputs": [
    {
     "data": {
      "text/plain": [
       "<Figure size 640x480 with 1 Axes>"
      ]
     },
     "metadata": {},
     "output_type": "display_data"
    }
   ],
   "source": [
    "import sys, os\n",
    "from datetime import datetime\n",
    "sys.path.append(os.path.abspath(os.path.join('..')))\n",
    "from helpers import plots, tests\n",
    "\n",
    "start_date = '2019-01-01'\n",
    "end_date = datetime.today().strftime('%Y-%m-%d')\n",
    "symbol1 = \"GLD\"\n",
    "symbol2 = \"GDX\""
   ]
  },
  {
   "cell_type": "markdown",
   "metadata": {},
   "source": [
    "Enter your API Key below"
   ]
  },
  {
   "cell_type": "code",
   "execution_count": 2,
   "metadata": {},
   "outputs": [],
   "source": [
    "key = \"R25C111BKODO8RHT\""
   ]
  },
  {
   "cell_type": "markdown",
   "metadata": {},
   "source": [
    "## Visualising the Data"
   ]
  },
  {
   "cell_type": "code",
   "execution_count": 3,
   "metadata": {},
   "outputs": [
    {
     "data": {
      "image/png": "[encoded data removed]",
      "text/plain": [
       "<Figure size 432x288 with 1 Axes>"
      ]
     },
     "metadata": {
      "needs_background": "light"
     },
     "output_type": "display_data"
    }
   ],
   "source": [
    "plots.daily_two_close(symbol1, symbol2, start_date, end_date, key)"
   ]
  },
  {
   "cell_type": "markdown",
   "metadata": {},
   "source": [
    "## Cointegration tests"
   ]
  },
  {
   "cell_type": "markdown",
   "metadata": {},
   "source": [
    "### CADFTest"
   ]
  },
  {
   "cell_type": "code",
   "execution_count": 4,
   "metadata": {},
   "outputs": [
    {
     "name": "stdout",
     "output_type": "stream",
     "text": [
      "CADFTest for cointegration between GLD and GDX from 2019-01-01 to 2021-01-21\n",
      "\n",
      "t-statistic = -inf\n",
      "p-value = 0.0\n",
      "\n",
      "1% Critical Value: -3.918\n",
      "5% Critical Value: -3.348\n",
      "10% Critical Value: -3.053\n"
     ]
    },
    {
     "name": "stderr",
     "output_type": "stream",
     "text": [
      "D:\\Program Files\\anac\\lib\\site-packages\\numpy\\linalg\\linalg.py:1872: RuntimeWarning: invalid value encountered in greater\n",
      "  return count_nonzero(S > tol, axis=-1)\n",
      "D:\\Program Files\\anac\\lib\\site-packages\\statsmodels\\tsa\\stattools.py:1583: CollinearityWarning: y0 and y1 are (almost) perfectly colinear.Cointegration test is not reliable in this case.\n",
      "  CollinearityWarning,\n"
     ]
    }
   ],
   "source": [
    "tests.CADF_Test(symbol1, symbol2, start_date, end_date, key)"
   ]
  },
  {
   "cell_type": "code",
   "execution_count": 8,
   "metadata": {},
   "outputs": [
    {
     "name": "stdout",
     "output_type": "stream",
     "text": [
      "Johansen Test for cointegration between GLD and GDX from 2019-01-01 to 2021-01-21\n",
      "\n",
      "r<=0 Trace Statistic = 12.257\n",
      "r<=0 Trace Critical Values:\n",
      "1%: 13.429\n",
      "5%: 15.494\n",
      "10% 19.935\n",
      "\n",
      "r<=1 Trace Statistic = 0.674\n",
      "r<=1 Trace Critical Values:\n",
      "1%: 2.706\n",
      "5%: 3.842\n",
      "10% 6.635\n",
      "\n",
      "r<=0 Eigenvalue Statistic = 11.583\n",
      "r<=0 Eigenvalue Critical Values: \n",
      "1%: 12.297\n",
      "5%: 14.264\n",
      "10% 18.52\n",
      "\n",
      "r<=1 Eigenvalue Statistic = 0.674\n",
      "r<=1 Eigenvalue Critical Values: \n",
      "1%: 2.706\n",
      "5%: 3.842\n",
      "10% 6.635\n"
     ]
    }
   ],
   "source": [
    "tests.johansen_test(symbol1, symbol2, start_date, end_date, key)"
   ]
  },
  {
   "cell_type": "code",
   "execution_count": null,
   "metadata": {},
   "outputs": [],
   "source": []
  }
 ],
 "metadata": {
  "kernelspec": {
   "display_name": "Python 3",
   "language": "python",
   "name": "python3"
  },
  "language_info": {
   "codemirror_mode": {
    "name": "ipython",
    "version": 3
   },
   "file_extension": ".py",
   "mimetype": "text/x-python",
   "name": "python",
   "nbconvert_exporter": "python",
   "pygments_lexer": "ipython3",
   "version": "3.7.3"
  },
  "pycharm": {
   "stem_cell": {
    "cell_type": "raw",
    "source": [],
    "metadata": {
     "collapsed": false
    }
   }
  }
 },
 "nbformat": 4,
 "nbformat_minor": 2
}